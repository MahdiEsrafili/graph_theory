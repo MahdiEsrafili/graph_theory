{
 "cells": [
  {
   "cell_type": "code",
   "execution_count": 1,
   "metadata": {},
   "outputs": [],
   "source": [
    "import queue"
   ]
  },
  {
   "cell_type": "code",
   "execution_count": 60,
   "metadata": {},
   "outputs": [],
   "source": [
    "class graph:\n",
    "    def __init__(self, name, adj_list):\n",
    "        self.name = name\n",
    "        self.adj_list=  adj_list\n",
    "        self.nnodes = len(adj_list)\n",
    "        self.visited = [False] * self.nnodes\n",
    "        self.components = [None] * self.nnodes\n",
    "        self.count = 0\n",
    "    #def add_node(self, adj_list):\n",
    "    def dfs(self, at):\n",
    "        print(at, self.visited)\n",
    "        self.components[at] = self.count\n",
    "        if self.visited[at]:\n",
    "            return 0\n",
    "        else:\n",
    "            self.visited[at] = True\n",
    "            neighbors = self.adj_list[at]\n",
    "            for nextn in neighbors:\n",
    "                if not self.visited[nextn]:\n",
    "                    self.dfs(nextn)\n",
    "        return self.visited\n",
    "    \n",
    "    def findComponents(self):\n",
    "        self.visited = [False]* self.nnodes\n",
    "        for i in range(self.nnodes):\n",
    "            if not self.visited[i]:\n",
    "                self.count += 1\n",
    "                self.dfs(i)\n",
    "        return (self.count, self.components)\n",
    "    \n",
    "    def bfs(self,s,e):\n",
    "        prev = self.solve(s)\n",
    "        return self.reconstruct(s,e,prev)\n",
    "    def solve(self,s):\n",
    "        q = queue.Queue()\n",
    "        q.put(s)\n",
    "        visited= [False] * self.nnodes\n",
    "        visited[s] = True\n",
    "        prev = [None]*self.nnodes\n",
    "        \n",
    "        while not q.empty():\n",
    "            node = q.get()\n",
    "            neighbours = self.adj_list[node]\n",
    "            \n",
    "            for nextn in neighbours:\n",
    "                if not visited[nextn]:\n",
    "                    q.put(nextn)\n",
    "                    visited[nextn] = True\n",
    "                    prev[nextn] = node\n",
    "            \n",
    "        return prev\n",
    "    \n",
    "    def reconstruct(self,s,e,prev):\n",
    "        path = []\n",
    "        for at in range(len(prev)):\n",
    "            if at !=None:\n",
    "                at = len(prev)-at\n",
    "                at = prev[at]\n",
    "                path.append(at)\n",
    "        path.reverse()\n",
    "        \n",
    "        if path[0] == s:\n",
    "            return path\n",
    "        else:\n",
    "            return []\n",
    "    \n",
    "    def bfs2(self,s,e):\n",
    "        visited= [False] * self.nnodes\n",
    "        q = queue.Queue()\n",
    "        q.put(s)\n",
    "        \n",
    "        while not q.empty():\n",
    "            node = q.get()\n",
    "            print(node,end =\" \")\n",
    "            for neighbours in self.adj_list[node]:\n",
    "                if not visited[neighbours] :\n",
    "                    visited[neighbours] = True\n",
    "                    q.put(neighbours]\n",
    "        return visited\n",
    "                \n",
    "    \n",
    "\n",
    "        "
   ]
  },
  {
   "cell_type": "code",
   "execution_count": null,
   "metadata": {},
   "outputs": [],
   "source": []
  },
  {
   "cell_type": "code",
   "execution_count": 61,
   "metadata": {},
   "outputs": [],
   "source": [
    "adj1 = [[1], [2,3],[1],[1], [5,6],[4],[4],[7]]"
   ]
  },
  {
   "cell_type": "code",
   "execution_count": 62,
   "metadata": {},
   "outputs": [],
   "source": [
    "adj2 =[[1],[0,2,3],[1,5],[1,4],[3,7],[2,6],[5,7],[4,6,8],[7]]"
   ]
  },
  {
   "cell_type": "code",
   "execution_count": 63,
   "metadata": {},
   "outputs": [],
   "source": [
    "g2 = graph('g2', adj2)"
   ]
  },
  {
   "cell_type": "code",
   "execution_count": 64,
   "metadata": {},
   "outputs": [
    {
     "name": "stdout",
     "output_type": "stream",
     "text": [
      "0 "
     ]
    },
    {
     "ename": "TypeError",
     "evalue": "'method' object is not subscriptable",
     "output_type": "error",
     "traceback": [
      "\u001b[1;31m---------------------------------------------------------------------------\u001b[0m",
      "\u001b[1;31mTypeError\u001b[0m                                 Traceback (most recent call last)",
      "\u001b[1;32m<ipython-input-64-fc49cae4c595>\u001b[0m in \u001b[0;36m<module>\u001b[1;34m\u001b[0m\n\u001b[1;32m----> 1\u001b[1;33m \u001b[0mg2\u001b[0m\u001b[1;33m.\u001b[0m\u001b[0mbfs2\u001b[0m\u001b[1;33m(\u001b[0m\u001b[1;36m0\u001b[0m\u001b[1;33m,\u001b[0m\u001b[1;36m7\u001b[0m\u001b[1;33m)\u001b[0m\u001b[1;33m\u001b[0m\u001b[1;33m\u001b[0m\u001b[0m\n\u001b[0m",
      "\u001b[1;32m<ipython-input-60-3cc3d2c67fbc>\u001b[0m in \u001b[0;36mbfs2\u001b[1;34m(self, s, e)\u001b[0m\n\u001b[0;32m     76\u001b[0m                 \u001b[1;32mif\u001b[0m \u001b[1;32mnot\u001b[0m \u001b[0mvisited\u001b[0m\u001b[1;33m[\u001b[0m\u001b[0mneighbours\u001b[0m\u001b[1;33m]\u001b[0m \u001b[1;33m:\u001b[0m\u001b[1;33m\u001b[0m\u001b[1;33m\u001b[0m\u001b[0m\n\u001b[0;32m     77\u001b[0m                     \u001b[0mvisited\u001b[0m\u001b[1;33m[\u001b[0m\u001b[0mneighbours\u001b[0m\u001b[1;33m]\u001b[0m \u001b[1;33m=\u001b[0m \u001b[1;32mTrue\u001b[0m\u001b[1;33m\u001b[0m\u001b[1;33m\u001b[0m\u001b[0m\n\u001b[1;32m---> 78\u001b[1;33m                     \u001b[0mq\u001b[0m\u001b[1;33m.\u001b[0m\u001b[0mput\u001b[0m\u001b[1;33m[\u001b[0m\u001b[0mneighbours\u001b[0m\u001b[1;33m]\u001b[0m\u001b[1;33m\u001b[0m\u001b[1;33m\u001b[0m\u001b[0m\n\u001b[0m\u001b[0;32m     79\u001b[0m         \u001b[1;32mreturn\u001b[0m \u001b[0mvisited\u001b[0m\u001b[1;33m\u001b[0m\u001b[1;33m\u001b[0m\u001b[0m\n\u001b[0;32m     80\u001b[0m \u001b[1;33m\u001b[0m\u001b[0m\n",
      "\u001b[1;31mTypeError\u001b[0m: 'method' object is not subscriptable"
     ]
    }
   ],
   "source": [
    "g2.bfs2(0,7)"
   ]
  },
  {
   "cell_type": "code",
   "execution_count": 46,
   "metadata": {},
   "outputs": [],
   "source": [
    "g1 = graph('g1', adj1)"
   ]
  },
  {
   "cell_type": "code",
   "execution_count": 47,
   "metadata": {},
   "outputs": [
    {
     "name": "stdout",
     "output_type": "stream",
     "text": [
      "0 [False, False, False, False, False, False, False, False]\n",
      "1 [True, False, False, False, False, False, False, False]\n",
      "2 [True, True, False, False, False, False, False, False]\n",
      "3 [True, True, True, False, False, False, False, False]\n"
     ]
    },
    {
     "data": {
      "text/plain": [
       "[True, True, True, True, False, False, False, False]"
      ]
     },
     "execution_count": 47,
     "metadata": {},
     "output_type": "execute_result"
    }
   ],
   "source": [
    "g1.dfs(0)"
   ]
  },
  {
   "cell_type": "code",
   "execution_count": 48,
   "metadata": {},
   "outputs": [
    {
     "name": "stdout",
     "output_type": "stream",
     "text": [
      "0 [False, False, False, False, False, False, False, False]\n",
      "1 [True, False, False, False, False, False, False, False]\n",
      "2 [True, True, False, False, False, False, False, False]\n",
      "3 [True, True, True, False, False, False, False, False]\n",
      "4 [True, True, True, True, False, False, False, False]\n",
      "5 [True, True, True, True, True, False, False, False]\n",
      "6 [True, True, True, True, True, True, False, False]\n",
      "7 [True, True, True, True, True, True, True, False]\n"
     ]
    },
    {
     "data": {
      "text/plain": [
       "(3, [1, 1, 1, 1, 2, 2, 2, 3])"
      ]
     },
     "execution_count": 48,
     "metadata": {},
     "output_type": "execute_result"
    }
   ],
   "source": [
    "g1.findComponents()"
   ]
  },
  {
   "cell_type": "code",
   "execution_count": 66,
   "metadata": {},
   "outputs": [
    {
     "name": "stdout",
     "output_type": "stream",
     "text": [
      "0 [False, False, False, False, False, False, False, False, False]\n",
      "1 [True, False, False, False, False, False, False, False, False]\n",
      "2 [True, True, False, False, False, False, False, False, False]\n",
      "5 [True, True, True, False, False, False, False, False, False]\n",
      "6 [True, True, True, False, False, True, False, False, False]\n",
      "7 [True, True, True, False, False, True, True, False, False]\n",
      "4 [True, True, True, False, False, True, True, True, False]\n",
      "3 [True, True, True, False, True, True, True, True, False]\n",
      "8 [True, True, True, True, True, True, True, True, False]\n"
     ]
    },
    {
     "data": {
      "text/plain": [
       "[True, True, True, True, True, True, True, True, True]"
      ]
     },
     "execution_count": 66,
     "metadata": {},
     "output_type": "execute_result"
    }
   ],
   "source": [
    "g2.dfs(0)"
   ]
  },
  {
   "cell_type": "code",
   "execution_count": 67,
   "metadata": {},
   "outputs": [
    {
     "name": "stdout",
     "output_type": "stream",
     "text": [
      "0 [False, False, False, False, False, False, False, False, False]\n",
      "1 [True, False, False, False, False, False, False, False, False]\n",
      "2 [True, True, False, False, False, False, False, False, False]\n",
      "5 [True, True, True, False, False, False, False, False, False]\n",
      "6 [True, True, True, False, False, True, False, False, False]\n",
      "7 [True, True, True, False, False, True, True, False, False]\n",
      "4 [True, True, True, False, False, True, True, True, False]\n",
      "3 [True, True, True, False, True, True, True, True, False]\n",
      "8 [True, True, True, True, True, True, True, True, False]\n"
     ]
    },
    {
     "data": {
      "text/plain": [
       "(1, [1, 1, 1, 1, 1, 1, 1, 1, 1])"
      ]
     },
     "execution_count": 67,
     "metadata": {},
     "output_type": "execute_result"
    }
   ],
   "source": [
    "g2.findComponents()"
   ]
  },
  {
   "cell_type": "code",
   "execution_count": 2,
   "metadata": {},
   "outputs": [],
   "source": [
    "q = queue.Queue()"
   ]
  },
  {
   "cell_type": "code",
   "execution_count": 12,
   "metadata": {},
   "outputs": [
    {
     "data": {
      "text/plain": [
       "True"
      ]
     },
     "execution_count": 12,
     "metadata": {},
     "output_type": "execute_result"
    }
   ],
   "source": [
    "q.empty()"
   ]
  },
  {
   "cell_type": "code",
   "execution_count": 6,
   "metadata": {},
   "outputs": [],
   "source": [
    "q.put(1)"
   ]
  },
  {
   "cell_type": "code",
   "execution_count": 11,
   "metadata": {},
   "outputs": [
    {
     "data": {
      "text/plain": [
       "1"
      ]
     },
     "execution_count": 11,
     "metadata": {},
     "output_type": "execute_result"
    }
   ],
   "source": [
    "q.get()"
   ]
  },
  {
   "cell_type": "code",
   "execution_count": 30,
   "metadata": {},
   "outputs": [],
   "source": [
    "x= [1,2,3,4,5]"
   ]
  },
  {
   "cell_type": "code",
   "execution_count": 33,
   "metadata": {},
   "outputs": [],
   "source": [
    "x.reverse()"
   ]
  },
  {
   "cell_type": "code",
   "execution_count": 34,
   "metadata": {},
   "outputs": [
    {
     "name": "stdout",
     "output_type": "stream",
     "text": [
      "[1, 2, 3, 4, 5]\n"
     ]
    }
   ],
   "source": [
    "print(x)"
   ]
  },
  {
   "cell_type": "code",
   "execution_count": null,
   "metadata": {},
   "outputs": [],
   "source": []
  }
 ],
 "metadata": {
  "kernelspec": {
   "display_name": "Python 3",
   "language": "python",
   "name": "python3"
  },
  "language_info": {
   "codemirror_mode": {
    "name": "ipython",
    "version": 3
   },
   "file_extension": ".py",
   "mimetype": "text/x-python",
   "name": "python",
   "nbconvert_exporter": "python",
   "pygments_lexer": "ipython3",
   "version": "3.7.3"
  }
 },
 "nbformat": 4,
 "nbformat_minor": 2
}
