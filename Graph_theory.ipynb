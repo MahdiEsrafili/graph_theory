{
 "cells": [
  {
   "cell_type": "code",
   "execution_count": 44,
   "metadata": {},
   "outputs": [],
   "source": [
    "class graph:\n",
    "    def __init__(self, name, adj_list):\n",
    "        self.name = name\n",
    "        self.adj_list=  adj_list\n",
    "        self.nnodes = len(adj_list)\n",
    "        self.visited = [False] * self.nnodes\n",
    "        self.components = [None] * self.nnodes\n",
    "        self.count = 0\n",
    "    #def add_node(self, adj_list):\n",
    "    def dfs(self, at):\n",
    "        print(at, self.visited)\n",
    "        self.components[at] = self.count\n",
    "        if self.visited[at]:\n",
    "            return 0\n",
    "        else:\n",
    "            self.visited[at] = True\n",
    "            neighbors = self.adj_list[at]\n",
    "            for nextn in neighbors:\n",
    "                if not self.visited[nextn]:\n",
    "                    self.dfs(nextn)\n",
    "        return self.visited\n",
    "    \n",
    "    def findComponents(self):\n",
    "        self.visited = [False]* self.nnodes\n",
    "        for i in range(self.nnodes):\n",
    "            if not self.visited[i]:\n",
    "                self.count += 1\n",
    "                self.dfs(i)\n",
    "        return (self.count, self.components)\n",
    "        \n",
    "        "
   ]
  },
  {
   "cell_type": "code",
   "execution_count": 45,
   "metadata": {},
   "outputs": [],
   "source": [
    "adj1 = [[1], [2,3],[1],[1], [5,6],[4],[4],[7]]"
   ]
  },
  {
   "cell_type": "code",
   "execution_count": 46,
   "metadata": {},
   "outputs": [],
   "source": [
    "g1 = graph('g1', adj1)"
   ]
  },
  {
   "cell_type": "code",
   "execution_count": 47,
   "metadata": {},
   "outputs": [
    {
     "name": "stdout",
     "output_type": "stream",
     "text": [
      "0 [False, False, False, False, False, False, False, False]\n",
      "1 [True, False, False, False, False, False, False, False]\n",
      "2 [True, True, False, False, False, False, False, False]\n",
      "3 [True, True, True, False, False, False, False, False]\n"
     ]
    },
    {
     "data": {
      "text/plain": [
       "[True, True, True, True, False, False, False, False]"
      ]
     },
     "execution_count": 47,
     "metadata": {},
     "output_type": "execute_result"
    }
   ],
   "source": [
    "g1.dfs(0)"
   ]
  },
  {
   "cell_type": "code",
   "execution_count": 48,
   "metadata": {},
   "outputs": [
    {
     "name": "stdout",
     "output_type": "stream",
     "text": [
      "0 [False, False, False, False, False, False, False, False]\n",
      "1 [True, False, False, False, False, False, False, False]\n",
      "2 [True, True, False, False, False, False, False, False]\n",
      "3 [True, True, True, False, False, False, False, False]\n",
      "4 [True, True, True, True, False, False, False, False]\n",
      "5 [True, True, True, True, True, False, False, False]\n",
      "6 [True, True, True, True, True, True, False, False]\n",
      "7 [True, True, True, True, True, True, True, False]\n"
     ]
    },
    {
     "data": {
      "text/plain": [
       "(3, [1, 1, 1, 1, 2, 2, 2, 3])"
      ]
     },
     "execution_count": 48,
     "metadata": {},
     "output_type": "execute_result"
    }
   ],
   "source": [
    "g1.findComponents()"
   ]
  },
  {
   "cell_type": "code",
   "execution_count": null,
   "metadata": {},
   "outputs": [],
   "source": []
  }
 ],
 "metadata": {
  "kernelspec": {
   "display_name": "Python 3",
   "language": "python",
   "name": "python3"
  },
  "language_info": {
   "codemirror_mode": {
    "name": "ipython",
    "version": 3
   },
   "file_extension": ".py",
   "mimetype": "text/x-python",
   "name": "python",
   "nbconvert_exporter": "python",
   "pygments_lexer": "ipython3",
   "version": "3.7.3"
  }
 },
 "nbformat": 4,
 "nbformat_minor": 2
}
