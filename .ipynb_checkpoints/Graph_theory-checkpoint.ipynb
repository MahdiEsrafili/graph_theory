{
 "cells": [
  {
   "cell_type": "code",
   "execution_count": 1,
   "metadata": {},
   "outputs": [],
   "source": [
    "import queue\n",
    "import numpy as np"
   ]
  },
  {
   "cell_type": "code",
   "execution_count": 280,
   "metadata": {},
   "outputs": [],
   "source": [
    "class graph:\n",
    "    def __init__(self, name, adj_list=None, weights=None, adj_matrix= None):\n",
    "        self.name = name\n",
    "        self.adj_list=  adj_list\n",
    "        self.weights = weights\n",
    "        if self.adj_list != None:\n",
    "            self.nnodes = len(adj_list)\n",
    "            self.visited = [False] * self.nnodes\n",
    "            self.components = [None] * self.nnodes\n",
    "            self.count = 0\n",
    "    #def add_node(self, adj_list):\n",
    "    def dfs(self, at):\n",
    "        self.visited = [False] * self.nnodes\n",
    "        self.vorder = []\n",
    "        res = self.dfs_run(at)\n",
    "        return res\n",
    "        print('323223')\n",
    "    def dfs_run(self, at):\n",
    "        #print(at, self.visited)\n",
    "        self.components[at] = self.count\n",
    "        if not self.visited[at]:\n",
    "            self.visited[at] = True\n",
    "            self.vorder.append(at)\n",
    "            neighbors = self.adj_list[at]\n",
    "            for nextn in neighbors:\n",
    "                if not self.visited[nextn]:\n",
    "                    self.dfs_run(nextn)\n",
    "#         self.visited = [False] * self.nnodes\n",
    "        return self.vorder\n",
    "    \n",
    "    def findComponents(self):\n",
    "        self.visited = [False]* self.nnodes\n",
    "        for i in range(self.nnodes):\n",
    "            if not self.visited[i]:\n",
    "                self.count += 1\n",
    "                self.dfs(i)\n",
    "        return (self.count, self.components)\n",
    "    \n",
    "    def bfs(self,s,e):\n",
    "        prev = self.solve(s)\n",
    "        return self.reconstruct(s,e,prev)\n",
    "    def solve(self,s):\n",
    "        q = queue.Queue()\n",
    "        q.put(s)\n",
    "        visited= [False] * self.nnodes\n",
    "        visited[s] = True\n",
    "        prev = [None]*self.nnodes\n",
    "        \n",
    "        while not q.empty():\n",
    "            node = q.get()\n",
    "            neighbours = self.adj_list[node]\n",
    "            \n",
    "            for nextn in neighbours:\n",
    "                if not visited[nextn]:\n",
    "                    q.put(nextn)\n",
    "                    visited[nextn] = True\n",
    "                    prev[nextn] = node\n",
    "        print(prev)\n",
    "        return prev\n",
    "    \n",
    "    def reconstruct(self,s,e,prev):\n",
    "        path = []\n",
    "        at = e\n",
    "        while at!=None:\n",
    "            at = prev[at]\n",
    "            path.append(at)\n",
    "        path.reverse()\n",
    "        return path\n",
    "#         if path[0] == s:\n",
    "#             return path\n",
    "#         else:\n",
    "#             return []\n",
    "    \n",
    "    def bfs2(self,s,e):\n",
    "        visited= [False] * self.nnodes\n",
    "        q = queue.Queue()\n",
    "        q.put(s)\n",
    "        visited[s] = True\n",
    "        while not q.empty():\n",
    "            node = q.get()\n",
    "            print(node,end =\" \")\n",
    "            for neighbours in self.adj_list[node]:\n",
    "                if not visited[neighbours] :\n",
    "                    visited[neighbours] = True\n",
    "                    q.put(neighbours)\n",
    "        return visited\n",
    "                \n",
    "    def __str__(self):\n",
    "        return str(self.name)                \n",
    "\n",
    "    def top_finder(self,g2,v):\n",
    "        f = [i for i in range(len(g2))]\n",
    "        for i in range(len(g2)):\n",
    "            for j in g2:\n",
    "                if (i in j) or v[i]:\n",
    "                    f.remove(i)\n",
    "                    break\n",
    "        return f,v\n",
    "    def topological_sort(self):\n",
    "        f_list = []\n",
    "        visited = [False] * self.nnodes\n",
    "        count = 0\n",
    "        gg = self.adj_list.copy()\n",
    "        for j in range(len(gg)):\n",
    "            b,visited = top_finder(gg,visited)\n",
    "            for father in b:\n",
    "                gg[father] = []\n",
    "                visited[father] = True\n",
    "            if len(b)>0:\n",
    "                f_list.append(b)\n",
    "        return f_list\n",
    "    \n",
    "    def shortest_path(self):\n",
    "        path_value = [float('inf')] * self.nnodes\n",
    "        path_value[0] = 0\n",
    "        at = 0\n",
    "        top_sort= self.topological_sort()\n",
    "        prevs = [0]\n",
    "        for nodes in range(1,len(top_sort)):\n",
    "            for node in top_sort[nodes]:\n",
    "                for prev_node in prevs:\n",
    "                    if (prev_node,node) in self.weights:\n",
    "                        w = self.weights[(prev_node,node)]\n",
    "                        w += path_value[prev_node]\n",
    "                        path_value[node] = min(w, path_value[node])\n",
    "                prevs.append(node)\n",
    "                        \n",
    "        return path_value\n",
    "\n",
    "     "
   ]
  },
  {
   "cell_type": "code",
   "execution_count": 22,
   "metadata": {},
   "outputs": [],
   "source": [
    "class dengeun(graph):\n",
    "    def create_dngs(self,dng,r,c):\n",
    "        self.adj_matrix = np.zeros([r,c])\n",
    "        dngns_r = np.random.randint(0,r,dng)\n",
    "        dngns_c = np.random.randint(0,c,dng)\n",
    "#         while (start[0] in dngns_r and finish[0] in dngns_r) and (start[1] in dngns_c and finish[1] in dngns_c):\n",
    "#             dngns_r = np.random.randint(0,r,dng)\n",
    "#             dngns_c = np.random.randint(0,c,dng)\n",
    "        self.adj_matrix[dngns_r,dngns_c] = -1\n",
    "#         self.adj_matrix[start[0],start[1]] = 1\n",
    "#         self.adj_matrix[finish[0],finish[1]] = 2\n",
    "        return self.adj_matrix\n",
    "    \n",
    "    def solve_dng(self,start, finish):\n",
    "        start = np.array(start)\n",
    "        finish = np.array(finish)\n",
    "        visited = np.full_like(self.adj_matrix,fill_value=False)\n",
    "        prev = np.full([self.adj_matrix.shape[0],self.adj_matrix.shape[1],1,2], fill_value=None)\n",
    "        visited[start[0],start[1]] = True\n",
    "        qr = queue.Queue()\n",
    "        qc = queue.Queue()\n",
    "        qr.put(start[0])\n",
    "        qc.put(start[1])\n",
    "        dr = [-1,1,0,0]\n",
    "        dc = [0,0,1,-1]\n",
    "\n",
    "        #explore neighbours and put in queues\n",
    "        at = np.array(start)\n",
    "        while not all(at == finish):\n",
    "            if not qr.empty():\n",
    "                at[0] = qr.get()\n",
    "                at[1] = qc.get()\n",
    "            #print(\"now at:\",at)\n",
    "            for i in range(len(dr)):\n",
    "                nextn = at + np.array([dr[i],dc[i]])\n",
    "                if nextn[0]>=0 and nextn[0]<self.adj_matrix.shape[0] and nextn[1]>=0 and nextn[1]<self.adj_matrix.shape[1]:\n",
    "                    if (self.adj_matrix[nextn[0], nextn[1]] != -1) and not visited[nextn[0], nextn[1]]:\n",
    "                        #print(\"next is \",nextn)\n",
    "                        qr.put(nextn[0])\n",
    "                        qc.put(nextn[1])\n",
    "                        visited[nextn[0],nextn[1]] = True\n",
    "                        prev[nextn[0],nextn[1]] = at\n",
    "                        #at = nextn\n",
    "        #print(\"prev is \", prev)\n",
    "        #reconstruct\n",
    "        #print(prev)\n",
    "        back = prev[finish[0], finish[1],0,:]\n",
    "        path = []\n",
    "        path.append(back)\n",
    "        #print('next step', prev[back[0],back[1]])\n",
    "        while not all(back == start):\n",
    "            #print('next step', prev[back[0],back[1]])\n",
    "            back = prev[back[0],back[1],0,:]\n",
    "            path.append(back)\n",
    "        path.reverse()   \n",
    "        return path\n",
    "                    \n",
    "        \n",
    "        \n",
    "\n",
    "        \n",
    "    "
   ]
  },
  {
   "cell_type": "code",
   "execution_count": 225,
   "metadata": {},
   "outputs": [
    {
     "data": {
      "text/plain": [
       "True"
      ]
     },
     "execution_count": 225,
     "metadata": {},
     "output_type": "execute_result"
    }
   ],
   "source": []
  },
  {
   "cell_type": "code",
   "execution_count": 23,
   "metadata": {},
   "outputs": [
    {
     "name": "stdout",
     "output_type": "stream",
     "text": [
      "dngn\n"
     ]
    }
   ],
   "source": [
    "g4 = dengeun('dngn')\n",
    "print(g4)"
   ]
  },
  {
   "cell_type": "code",
   "execution_count": 24,
   "metadata": {},
   "outputs": [
    {
     "data": {
      "text/plain": [
       "array([[ 0.,  0.,  0.,  0.,  0.],\n",
       "       [ 0., -1.,  0.,  0.,  0.],\n",
       "       [ 0.,  0.,  0., -1.,  0.],\n",
       "       [ 0.,  0.,  0.,  0.,  0.],\n",
       "       [ 0.,  0., -1.,  0.,  0.]])"
      ]
     },
     "execution_count": 24,
     "metadata": {},
     "output_type": "execute_result"
    }
   ],
   "source": [
    "g4.create_dngs(3,5,5)"
   ]
  },
  {
   "cell_type": "code",
   "execution_count": 25,
   "metadata": {},
   "outputs": [
    {
     "data": {
      "text/plain": [
       "[array([1, 2], dtype=object),\n",
       " array([2, 2], dtype=object),\n",
       " array([3, 2], dtype=object),\n",
       " array([3, 3], dtype=object),\n",
       " array([4, 3], dtype=object)]"
      ]
     },
     "execution_count": 25,
     "metadata": {},
     "output_type": "execute_result"
    }
   ],
   "source": [
    "g4.solve_dng([1,2],[4,4])"
   ]
  },
  {
   "cell_type": "code",
   "execution_count": 276,
   "metadata": {},
   "outputs": [],
   "source": [
    "g4.create_dngs(0,5,7)\n",
    "g4.adj_matrix[[0,1,1,2,3,3,4,4,4],[3,1,5,1,2,3,0,2,5]] = -1"
   ]
  },
  {
   "cell_type": "code",
   "execution_count": 277,
   "metadata": {},
   "outputs": [
    {
     "data": {
      "text/plain": [
       "[array([4, 4], dtype=object),\n",
       " array([3, 4], dtype=object),\n",
       " array([2, 4], dtype=object),\n",
       " array([2, 3], dtype=object),\n",
       " array([2, 2], dtype=object),\n",
       " array([1, 2], dtype=object),\n",
       " array([0, 2], dtype=object),\n",
       " array([0, 1], dtype=object),\n",
       " array([0, 0], dtype=object)]"
      ]
     },
     "execution_count": 277,
     "metadata": {},
     "output_type": "execute_result"
    }
   ],
   "source": [
    "g4.solve_dng([0,0],[4,3])"
   ]
  },
  {
   "cell_type": "code",
   "execution_count": 218,
   "metadata": {},
   "outputs": [],
   "source": [
    "adj1 = [[1], [2,3],[1],[1], [5,6],[4],[4],[7]]"
   ]
  },
  {
   "cell_type": "code",
   "execution_count": 260,
   "metadata": {},
   "outputs": [],
   "source": [
    "adj2 =[[1],[2,3],[5],[4],[7],[6],[7],[8], []]\n",
    "w2 = {\n",
    "    (0,1):1,\n",
    "    (1,2):2,\n",
    "    (1,3):1,\n",
    "    (3,4):-1,\n",
    "    (4,7):4,\n",
    "    (7,8):1,\n",
    "    (6,4):2,\n",
    "    (5,6):1,\n",
    "    (2,5):3\n",
    "}\n",
    "# w2 = {\n",
    "#     0:[(1,1)],\n",
    "#     1:[(2,2),(3,1)],\n",
    "#     2:[(5,3)],\n",
    "#     3:[(4,-1)],\n",
    "#     4:[(7,4)],\n",
    "#     5:[(6,1)],\n",
    "#     6:[(7,2)],\n",
    "#     7:[(8,1)]\n",
    "# }"
   ]
  },
  {
   "cell_type": "code",
   "execution_count": 230,
   "metadata": {},
   "outputs": [
    {
     "data": {
      "text/plain": [
       "False"
      ]
     },
     "execution_count": 230,
     "metadata": {},
     "output_type": "execute_result"
    }
   ],
   "source": [
    "(0,3) in w2"
   ]
  },
  {
   "cell_type": "code",
   "execution_count": 189,
   "metadata": {},
   "outputs": [],
   "source": [
    "a = [[1,2],[],[3,4],[5,6],[7],[1],[],[6]]"
   ]
  },
  {
   "cell_type": "code",
   "execution_count": 209,
   "metadata": {},
   "outputs": [
    {
     "data": {
      "text/plain": [
       "[[0], [1], [2, 3], [4, 5], [6], [7], [8]]"
      ]
     },
     "execution_count": 209,
     "metadata": {},
     "output_type": "execute_result"
    }
   ],
   "source": [
    "\n",
    "# a = adj2.copy()\n",
    "\n",
    "def top_finder(g2,v):\n",
    "    f = [i for i in range(len(g2))]\n",
    "    for i in range(len(g2)):\n",
    "        for j in g2:\n",
    "            if (i in j) or v[i]:\n",
    "                f.remove(i)\n",
    "                break\n",
    "    return f,v\n",
    "def top_path(g):\n",
    "    f_list = []\n",
    "    visited = [False] * len(g)\n",
    "    count = 0\n",
    "    gg = g.copy()\n",
    "    for j in range(len(gg)):\n",
    "        b,visited = top_finder(gg,visited)\n",
    "        for father in b:\n",
    "            gg[father] = []\n",
    "            visited[father] = True\n",
    "        if len(b)>0:\n",
    "            f_list.append(b)\n",
    "    return f_list\n",
    "    \n",
    "father_path(adj2)    "
   ]
  },
  {
   "cell_type": "code",
   "execution_count": 203,
   "metadata": {},
   "outputs": [
    {
     "data": {
      "text/plain": [
       "[[1, 2], [], [3, 4], [5, 6], [7], [1], [], [6]]"
      ]
     },
     "execution_count": 203,
     "metadata": {},
     "output_type": "execute_result"
    }
   ],
   "source": [
    "a"
   ]
  },
  {
   "cell_type": "code",
   "execution_count": 186,
   "metadata": {},
   "outputs": [],
   "source": [
    "adj3 = adj2.copy()\n"
   ]
  },
  {
   "cell_type": "code",
   "execution_count": 187,
   "metadata": {},
   "outputs": [
    {
     "data": {
      "text/plain": [
       "[[1], [2, 3], [5], [4], [7], [6], [7], [8], []]"
      ]
     },
     "execution_count": 187,
     "metadata": {},
     "output_type": "execute_result"
    }
   ],
   "source": [
    "type(ajd)"
   ]
  },
  {
   "cell_type": "code",
   "execution_count": 164,
   "metadata": {},
   "outputs": [
    {
     "data": {
      "text/plain": [
       "[[1], [2, 3], [], [4], [7], [6], [7], [8], []]"
      ]
     },
     "execution_count": 164,
     "metadata": {},
     "output_type": "execute_result"
    }
   ],
   "source": [
    "adj3"
   ]
  },
  {
   "cell_type": "code",
   "execution_count": 264,
   "metadata": {},
   "outputs": [],
   "source": [
    "g2 = graph('g2', adj2,weights=w2)"
   ]
  },
  {
   "cell_type": "code",
   "execution_count": 265,
   "metadata": {},
   "outputs": [
    {
     "data": {
      "text/plain": [
       "[0, 1, 3, 2, 1, 6, 7, 5, 6]"
      ]
     },
     "execution_count": 265,
     "metadata": {},
     "output_type": "execute_result"
    }
   ],
   "source": [
    "g2.shortest_path(0,8)"
   ]
  },
  {
   "cell_type": "code",
   "execution_count": 247,
   "metadata": {},
   "outputs": [
    {
     "data": {
      "text/plain": [
       "[[0], [1], [2, 3], [4, 5], [6], [7], [8]]"
      ]
     },
     "execution_count": 247,
     "metadata": {},
     "output_type": "execute_result"
    }
   ],
   "source": [
    "g2.topological_sort()"
   ]
  },
  {
   "cell_type": "code",
   "execution_count": 213,
   "metadata": {},
   "outputs": [
    {
     "data": {
      "text/plain": [
       "[[0], [1], [2, 3], [4, 5], [6], [7], [8]]"
      ]
     },
     "execution_count": 213,
     "metadata": {},
     "output_type": "execute_result"
    }
   ],
   "source": [
    "g2.top_path()"
   ]
  },
  {
   "cell_type": "code",
   "execution_count": 219,
   "metadata": {},
   "outputs": [],
   "source": [
    "g1 = graph('g1', adj1)"
   ]
  },
  {
   "cell_type": "code",
   "execution_count": 220,
   "metadata": {},
   "outputs": [
    {
     "data": {
      "text/plain": [
       "[[0]]"
      ]
     },
     "execution_count": 220,
     "metadata": {},
     "output_type": "execute_result"
    }
   ],
   "source": [
    "g1.topological_sort()"
   ]
  },
  {
   "cell_type": "code",
   "execution_count": 48,
   "metadata": {},
   "outputs": [
    {
     "name": "stdout",
     "output_type": "stream",
     "text": [
      "0 [False, False, False, False, False, False, False, False]\n",
      "1 [True, False, False, False, False, False, False, False]\n",
      "2 [True, True, False, False, False, False, False, False]\n",
      "3 [True, True, True, False, False, False, False, False]\n",
      "4 [True, True, True, True, False, False, False, False]\n",
      "5 [True, True, True, True, True, False, False, False]\n",
      "6 [True, True, True, True, True, True, False, False]\n",
      "7 [True, True, True, True, True, True, True, False]\n"
     ]
    },
    {
     "data": {
      "text/plain": [
       "(3, [1, 1, 1, 1, 2, 2, 2, 3])"
      ]
     },
     "execution_count": 48,
     "metadata": {},
     "output_type": "execute_result"
    }
   ],
   "source": [
    "g1.findComponents()"
   ]
  },
  {
   "cell_type": "code",
   "execution_count": 66,
   "metadata": {},
   "outputs": [
    {
     "name": "stdout",
     "output_type": "stream",
     "text": [
      "0 [False, False, False, False, False, False, False, False, False]\n",
      "1 [True, False, False, False, False, False, False, False, False]\n",
      "2 [True, True, False, False, False, False, False, False, False]\n",
      "5 [True, True, True, False, False, False, False, False, False]\n",
      "6 [True, True, True, False, False, True, False, False, False]\n",
      "7 [True, True, True, False, False, True, True, False, False]\n",
      "4 [True, True, True, False, False, True, True, True, False]\n",
      "3 [True, True, True, False, True, True, True, True, False]\n",
      "8 [True, True, True, True, True, True, True, True, False]\n"
     ]
    },
    {
     "data": {
      "text/plain": [
       "[True, True, True, True, True, True, True, True, True]"
      ]
     },
     "execution_count": 66,
     "metadata": {},
     "output_type": "execute_result"
    }
   ],
   "source": [
    "g2.dfs(0)"
   ]
  },
  {
   "cell_type": "code",
   "execution_count": 67,
   "metadata": {},
   "outputs": [
    {
     "name": "stdout",
     "output_type": "stream",
     "text": [
      "0 [False, False, False, False, False, False, False, False, False]\n",
      "1 [True, False, False, False, False, False, False, False, False]\n",
      "2 [True, True, False, False, False, False, False, False, False]\n",
      "5 [True, True, True, False, False, False, False, False, False]\n",
      "6 [True, True, True, False, False, True, False, False, False]\n",
      "7 [True, True, True, False, False, True, True, False, False]\n",
      "4 [True, True, True, False, False, True, True, True, False]\n",
      "3 [True, True, True, False, True, True, True, True, False]\n",
      "8 [True, True, True, True, True, True, True, True, False]\n"
     ]
    },
    {
     "data": {
      "text/plain": [
       "(1, [1, 1, 1, 1, 1, 1, 1, 1, 1])"
      ]
     },
     "execution_count": 67,
     "metadata": {},
     "output_type": "execute_result"
    }
   ],
   "source": [
    "g2.findComponents()"
   ]
  },
  {
   "cell_type": "code",
   "execution_count": 253,
   "metadata": {},
   "outputs": [],
   "source": [
    "adj3 = [\n",
    "    [1,2,9],\n",
    "    [0,6,3,4],\n",
    "    [0,5],\n",
    "    [1,7,8],\n",
    "    [1],\n",
    "    [2],\n",
    "    [1],\n",
    "    [3],\n",
    "    [3,9],\n",
    "    [0,8]\n",
    "]"
   ]
  },
  {
   "cell_type": "code",
   "execution_count": 59,
   "metadata": {},
   "outputs": [],
   "source": [
    "g3 = graph('g3', adj3)"
   ]
  },
  {
   "cell_type": "code",
   "execution_count": 61,
   "metadata": {},
   "outputs": [
    {
     "name": "stdout",
     "output_type": "stream",
     "text": [
      "[2, 0, 5, 1, 1, None, 1, 3, 9, 0]\n"
     ]
    },
    {
     "data": {
      "text/plain": [
       "[None, 5, 2, 0, 9]"
      ]
     },
     "execution_count": 61,
     "metadata": {},
     "output_type": "execute_result"
    }
   ],
   "source": [
    "g3.bfs(5,8)"
   ]
  },
  {
   "cell_type": "code",
   "execution_count": 37,
   "metadata": {},
   "outputs": [
    {
     "name": "stdout",
     "output_type": "stream",
     "text": [
      "g3\n"
     ]
    }
   ],
   "source": [
    "print(g3)"
   ]
  },
  {
   "cell_type": "code",
   "execution_count": 277,
   "metadata": {},
   "outputs": [],
   "source": [
    "adj4= [\n",
    "    [1,2],\n",
    "    [5,3],\n",
    "    [3,4],\n",
    "    [4],\n",
    "    []\n",
    "]\n",
    "w4= {\n",
    "    (0,1):1,\n",
    "    (0,2):2,\n",
    "    (1,5):1,\n",
    "    (1,3):3,\n",
    "    (2,3):-1,\n",
    "    (2,4):2,\n",
    "    (3,4):3\n",
    "}"
   ]
  },
  {
   "cell_type": "code",
   "execution_count": 281,
   "metadata": {},
   "outputs": [],
   "source": [
    "g4 = graph('g4', adj4,w4)"
   ]
  },
  {
   "cell_type": "code",
   "execution_count": 282,
   "metadata": {},
   "outputs": [
    {
     "data": {
      "text/plain": [
       "[0, 1, 2, 1, 4]"
      ]
     },
     "execution_count": 282,
     "metadata": {},
     "output_type": "execute_result"
    }
   ],
   "source": [
    "g4.shortest_path()"
   ]
  },
  {
   "cell_type": "code",
   "execution_count": null,
   "metadata": {},
   "outputs": [],
   "source": []
  }
 ],
 "metadata": {
  "kernelspec": {
   "display_name": "Python 3",
   "language": "python",
   "name": "python3"
  },
  "language_info": {
   "codemirror_mode": {
    "name": "ipython",
    "version": 3
   },
   "file_extension": ".py",
   "mimetype": "text/x-python",
   "name": "python",
   "nbconvert_exporter": "python",
   "pygments_lexer": "ipython3",
   "version": "3.7.3"
  }
 },
 "nbformat": 4,
 "nbformat_minor": 2
}
