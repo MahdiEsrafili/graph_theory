{
 "cells": [
  {
   "cell_type": "code",
   "execution_count": 1,
   "metadata": {},
   "outputs": [],
   "source": [
    "import snap"
   ]
  },
  {
   "cell_type": "code",
   "execution_count": 2,
   "metadata": {},
   "outputs": [
    {
     "name": "stdout",
     "output_type": "stream",
     "text": [
      "G1: Nodes 3, Edges 3\n"
     ]
    }
   ],
   "source": [
    "# create a graph PNGraph\n",
    "G1 = snap.TNGraph.New()\n",
    "G1.AddNode(1)\n",
    "G1.AddNode(5)\n",
    "G1.AddNode(32)\n",
    "G1.AddEdge(1,5)\n",
    "G1.AddEdge(5,1)\n",
    "G1.AddEdge(5,32)\n",
    "print(\"G1: Nodes %d, Edges %d\" % (G1.GetNodes(), G1.GetEdges()))"
   ]
  },
  {
   "cell_type": "code",
   "execution_count": 3,
   "metadata": {},
   "outputs": [],
   "source": [
    "labels = snap.TIntStrH()\n",
    "for NI in G1.Nodes():\n",
    "        labels[NI.GetId()] = str(NI.GetId())\n",
    "snap.DrawGViz(G1, snap.gvlDot, \"output.png\", \" \", labels)"
   ]
  },
  {
   "cell_type": "code",
   "execution_count": null,
   "metadata": {},
   "outputs": [],
   "source": []
  }
 ],
 "metadata": {
  "kernelspec": {
   "display_name": "Python 3",
   "language": "python",
   "name": "python3"
  },
  "language_info": {
   "codemirror_mode": {
    "name": "ipython",
    "version": 3
   },
   "file_extension": ".py",
   "mimetype": "text/x-python",
   "name": "python",
   "nbconvert_exporter": "python",
   "pygments_lexer": "ipython3",
   "version": "3.7.3"
  }
 },
 "nbformat": 4,
 "nbformat_minor": 2
}
